{
 "cells": [
  {
   "cell_type": "markdown",
   "metadata": {},
   "source": [
    "# U.S. Medical Insurance Costs"
   ]
  },
  {
   "cell_type": "code",
   "execution_count": 1,
   "metadata": {},
   "outputs": [],
   "source": [
    "import csv\n"
   ]
  },
  {
   "cell_type": "code",
   "execution_count": 2,
   "metadata": {},
   "outputs": [],
   "source": [
    "with open(\"insurance.csv\") as insurance_csv:\n",
    "    insurance_data = insurance_csv.read()\n"
   ]
  },
  {
   "cell_type": "code",
   "execution_count": 3,
   "metadata": {},
   "outputs": [],
   "source": [
    "ages = []\n",
    "sexes = []\n",
    "bmis = []\n",
    "num_children = []\n",
    "smoker = []\n",
    "regions = []\n",
    "charges = []"
   ]
  },
  {
   "cell_type": "markdown",
   "metadata": {},
   "source": [
    "Append each datapoints to their lists.\n"
   ]
  },
  {
   "cell_type": "code",
   "execution_count": 4,
   "metadata": {},
   "outputs": [],
   "source": [
    "with open('insurance.csv') as insurance_csv:\n",
    "    insurance_dict = csv.DictReader(insurance_csv)\n",
    "    for row in insurance_dict:\n",
    "        ages.append(row['age'])\n",
    "        sexes.append(row['sex'])\n",
    "        bmis.append(row['bmi'])\n",
    "        num_children.append(row['children'])\n",
    "        smoker.append(row['smoker'])\n",
    "        regions.append(row['region'])\n",
    "        charges.append(row['charges'])"
   ]
  },
  {
   "cell_type": "markdown",
   "metadata": {},
   "source": [
    "Calculation of the average of each list: "
   ]
  },
  {
   "cell_type": "code",
   "execution_count": 5,
   "metadata": {},
   "outputs": [],
   "source": [
    "def avg_cal(var):\n",
    "    total = 0\n",
    "    for avg in var:\n",
    "        total += float(avg)\n",
    "    return float(total/len(var))"
   ]
  },
  {
   "cell_type": "code",
   "execution_count": 6,
   "metadata": {},
   "outputs": [
    {
     "name": "stdout",
     "output_type": "stream",
     "text": [
      "Avergae of the age are: 39.21\n",
      "Avergae of the bmis are: 30.66\n",
      "Avergae of the number of children are: 1.09\n",
      "Avergae cost of insurance are: $13270.42\n"
     ]
    }
   ],
   "source": [
    "print(\"Avergae of the age are: \" + str(round(avg_cal(ages), 2)))\n",
    "print(\"Avergae of the bmis are: \" + str(round(avg_cal(bmis), 2)))\n",
    "print(\"Avergae of the number of children are: \" + str(round(avg_cal(num_children), 2)))\n",
    "print(\"Avergae cost of insurance are: $\" + str(round(avg_cal(charges), 2)))"
   ]
  },
  {
   "cell_type": "markdown",
   "metadata": {},
   "source": [
    "Number of males vs females:"
   ]
  },
  {
   "cell_type": "code",
   "execution_count": 7,
   "metadata": {},
   "outputs": [
    {
     "name": "stdout",
     "output_type": "stream",
     "text": [
      "Number of 676 male in the dataset\n",
      "Number of 662 female in the dataset\n"
     ]
    }
   ],
   "source": [
    "male_count = 0\n",
    "female_count = 0\n",
    "for sex in sexes:\n",
    "    if sex == \"male\":\n",
    "        male_count += 1\n",
    "    else:\n",
    "        female_count += 1\n",
    "print(\"Number of {male_count} male in the dataset\".format(male_count = male_count))\n",
    "print(\"Number of {female_count} female in the dataset\".format(female_count = female_count))"
   ]
  },
  {
   "cell_type": "markdown",
   "metadata": {},
   "source": [
    "Number of patients in each regions:"
   ]
  },
  {
   "cell_type": "code",
   "execution_count": 8,
   "metadata": {},
   "outputs": [
    {
     "name": "stdout",
     "output_type": "stream",
     "text": [
      "{'southwest': 325, 'southeast': 364, 'northwest': 325, 'northeast': 324}\n"
     ]
    }
   ],
   "source": [
    "region_count = {}\n",
    "for region in regions:\n",
    "    if region not in region_count:\n",
    "        region_count[region] = 1\n",
    "    else:\n",
    "        region_count[region] += 1\n",
    "print(region_count)"
   ]
  },
  {
   "cell_type": "markdown",
   "metadata": {},
   "source": [
    "Number of somlers vs non smokers :"
   ]
  },
  {
   "cell_type": "code",
   "execution_count": 9,
   "metadata": {},
   "outputs": [
    {
     "name": "stdout",
     "output_type": "stream",
     "text": [
      "Number of smokers:  274\n",
      "Number of non smokers:  1064\n"
     ]
    }
   ],
   "source": [
    "smoker_count = 0\n",
    "nonsmoker_count = 0\n",
    "for smoke in smoker:\n",
    "    if smoke == \"yes\":\n",
    "        smoker_count += 1\n",
    "    else:\n",
    "        nonsmoker_count += 1\n",
    "print(\"Number of smokers: \" , smoker_count)\n",
    "print('Number of non smokers: ' , nonsmoker_count)"
   ]
  },
  {
   "cell_type": "markdown",
   "metadata": {},
   "source": [
    "Comparing cost:"
   ]
  },
  {
   "cell_type": "code",
   "execution_count": 10,
   "metadata": {},
   "outputs": [],
   "source": [
    "def comapre_cost(cost, fact1, fact2):\n",
    "    with open('insurance.csv') as f:\n",
    "        file_dict = csv.DictReader(f)\n",
    "        total_fact1_charges = 0\n",
    "        fact1_count = 0\n",
    "        total_fact2_charges = 0\n",
    "        fact2_count = 0\n",
    "        \n",
    "        for row in file_dict:\n",
    "            if row[cost] == fact1:\n",
    "                total_fact1_charges += float(row['charges'])\n",
    "                fact1_count += 1\n",
    "            elif row[cost] == fact2:\n",
    "                total_fact2_charges += float(row['charges'])\n",
    "                fact2_count +=1\n",
    "\n",
    "    avg_fact1_cost = round((total_fact1_charges / fact1_count), 2)\n",
    "    avg_fact2_cost = round((total_fact2_charges / fact2_count), 2)\n",
    "    \n",
    "    print(\"Average insurance cost if {cost} is {fact1}: ${avg_fact1_cost}\". format(cost = cost, fact1 = fact1, avg_fact1_cost = avg_fact1_cost))\n",
    "    print(\"Average insurance cost if {cost} is {fact2}: ${avg_fact2_cost}\". format(cost = cost, fact2 = fact2, avg_fact2_cost = avg_fact2_cost))\n",
    "\n",
    "    cost_diff = round(avg_fact1_cost - avg_fact2_cost)\n",
    "    print(\"The difference in cost depending on {cost} is ${cost_diff}\".format(cost = cost, cost_diff = cost_diff))\n",
    "    \n",
    "    return (avg_fact1_cost, avg_fact2_cost, cost_diff)"
   ]
  },
  {
   "cell_type": "code",
   "execution_count": 11,
   "metadata": {},
   "outputs": [
    {
     "name": "stdout",
     "output_type": "stream",
     "text": [
      "Average insurance cost if sex is male: $13956.75\n",
      "Average insurance cost if sex is female: $12569.58\n",
      "The difference in cost depending on sex is $1387\n"
     ]
    }
   ],
   "source": [
    "insurance_diff_sex = comapre_cost('sex', 'male', 'female')"
   ]
  },
  {
   "cell_type": "code",
   "execution_count": 12,
   "metadata": {},
   "outputs": [
    {
     "name": "stdout",
     "output_type": "stream",
     "text": [
      "Average insurance cost if smoker is yes: $32050.23\n",
      "Average insurance cost if smoker is no: $8434.27\n",
      "The difference in cost depending on smoker is $23616\n"
     ]
    }
   ],
   "source": [
    "insurance_diff_smoker = comapre_cost('smoker', 'yes', 'no')"
   ]
  },
  {
   "cell_type": "markdown",
   "metadata": {},
   "source": [
    "Who smoke more male or female:"
   ]
  },
  {
   "cell_type": "code",
   "execution_count": 13,
   "metadata": {},
   "outputs": [
    {
     "name": "stdout",
     "output_type": "stream",
     "text": [
      "Male smokers:  159\n",
      "Male non smokers:  517\n",
      "The percent male smokers is: 23.52 %\n"
     ]
    }
   ],
   "source": [
    "def count_male_smoker():\n",
    "    with open('insurance.csv') as d:\n",
    "        file_dict2 = csv.DictReader(d)\n",
    "        male_smoker_count = 0\n",
    "        male_nonsmoker_count = 0\n",
    "        \n",
    "        for row in file_dict2:\n",
    "            if row['sex'] == 'male':\n",
    "                if row['smoker'] == 'yes':\n",
    "                    male_smoker_count += 1\n",
    "                else:\n",
    "                    male_nonsmoker_count += 1\n",
    "                    \n",
    "        pct_male_smokers = round(((male_smoker_count / male_count)*100), 2)\n",
    "        print(\"Male smokers: \", male_smoker_count)\n",
    "        print(\"Male non smokers: \", male_nonsmoker_count)\n",
    "        print(\"The percent male smokers is:\", pct_male_smokers, \"%\")\n",
    "\n",
    "count_male_smoker()\n",
    "                "
   ]
  },
  {
   "cell_type": "code",
   "execution_count": 14,
   "metadata": {},
   "outputs": [
    {
     "name": "stdout",
     "output_type": "stream",
     "text": [
      "Female smokers:  115\n",
      "Female non smokers is :  547\n",
      "The percent female smokers is: 17.37 %\n"
     ]
    }
   ],
   "source": [
    "def count_female_smoker():\n",
    "    with open('insurance.csv') as d:\n",
    "        file_dict2 = csv.DictReader(d)\n",
    "        female_smoker_count = 0\n",
    "        female_nonsmoker_count = 0\n",
    "        \n",
    "        for row in file_dict2:\n",
    "            if row['sex'] == 'female':\n",
    "                if row['smoker'] == 'yes':\n",
    "                    female_smoker_count += 1\n",
    "                else:\n",
    "                    female_nonsmoker_count += 1\n",
    "        \n",
    "        pct_female_smokers = round((female_smoker_count / female_count) * 100, 2)\n",
    "        \n",
    "        print(\"Female smokers: \", female_smoker_count)\n",
    "        print(\"Female non smokers is : \", female_nonsmoker_count)\n",
    "        print(\"The percent female smokers is:\", pct_female_smokers, \"%\")\n",
    "\n",
    "count_female_smoker()"
   ]
  },
  {
   "cell_type": "markdown",
   "metadata": {},
   "source": [
    "We can say that the percentage of males smoke more than female, so we can calculate the cost of insurance of smoker vs non smoker  both male and female"
   ]
  },
  {
   "cell_type": "code",
   "execution_count": 15,
   "metadata": {},
   "outputs": [
    {
     "name": "stdout",
     "output_type": "stream",
     "text": [
      "Average insurance cost for a non smoker male is: $ 8087.2\n",
      "Average insurance cost for male smoker is: $ 33042.01\n",
      "Average insurance cost for a non smoker female: $ 8762.3\n",
      "Average insurance cost for a female smoker: $ 30679.0\n"
     ]
    }
   ],
   "source": [
    "def cost_smoker_vs_nonsmoker():\n",
    "    with open('insurance.csv') as f:\n",
    "        file_dict = csv.DictReader(f)\n",
    "        male_ns_cost = 0\n",
    "        male_ns_count = 0\n",
    "        male_s_cost = 0\n",
    "        male_s_count = 0\n",
    "        female_ns_cost = 0\n",
    "        female_ns_count = 0\n",
    "        female_s_cost = 0\n",
    "        female_s_count = 0\n",
    "        \n",
    "        for row in file_dict:\n",
    "            if row['smoker'] == 'no':\n",
    "                if row['sex'] == \"male\":\n",
    "                    male_ns_cost += float(row['charges'])\n",
    "                    male_ns_count += 1\n",
    "                elif row['sex'] == 'female':\n",
    "                    female_ns_cost += float(row['charges'])\n",
    "                    female_ns_count += 1\n",
    "            \n",
    "            elif row['smoker'] == 'yes':\n",
    "                if row['sex'] == 'male':\n",
    "                    male_s_cost += float(row['charges'])\n",
    "                    male_s_count += 1\n",
    "                elif row['sex'] == 'female':\n",
    "                    female_s_cost += float(row['charges'])\n",
    "                    female_s_count += 1\n",
    "                    \n",
    "        \n",
    "        avg_male_nonsmoker_cost = round(male_ns_cost / male_ns_count, 2)\n",
    "        avg_male_smoker_cost = round(male_s_cost / male_s_count, 2)\n",
    "        \n",
    "        avg_female_nonsmoker_cost = round(female_ns_cost / female_ns_count, 2)\n",
    "        avg_female_smoker_cost = round(female_s_cost / female_s_count, 2)\n",
    "        \n",
    "        print(\"Average insurance cost for a non smoker male is: $\", avg_male_nonsmoker_cost)\n",
    "        print(\"Average insurance cost for male smoker is: $\", avg_male_smoker_cost)\n",
    "        print(\"Average insurance cost for a non smoker female: $\", avg_female_nonsmoker_cost)\n",
    "        print(\"Average insurance cost for a female smoker: $\", avg_female_smoker_cost)\n",
    "\n",
    "cost_smoker_vs_nonsmoker()     "
   ]
  },
  {
   "cell_type": "markdown",
   "metadata": {},
   "source": [
    "We can also calculate the average insurance cost of peaple having 0 children and people with 1 or more children "
   ]
  },
  {
   "cell_type": "code",
   "execution_count": 16,
   "metadata": {},
   "outputs": [
    {
     "name": "stdout",
     "output_type": "stream",
     "text": [
      "Average insurance cost for people with 0 children: $ 12365.98\n",
      "Average insurance cost for people with 1 or more children: $ 13949.94\n"
     ]
    }
   ],
   "source": [
    "def compare_children_cost():\n",
    "    with open('insurance.csv') as f:\n",
    "        file_dict = csv.DictReader(f)\n",
    "        zero_child_cost = 0\n",
    "        zero_child_count = 0\n",
    "        one_or_more_child_cost = 0\n",
    "        one_or_more_child_count = 0\n",
    "        \n",
    "        for row in file_dict:\n",
    "            if int(row['children']) == 0:\n",
    "                zero_child_cost += float(row['charges'])\n",
    "                zero_child_count += 1\n",
    "            elif int(row['children']) >= 1:\n",
    "                one_or_more_child_cost += float(row['charges'])\n",
    "                one_or_more_child_count += 1\n",
    "                \n",
    "        avg_zero_child_cost = round(zero_child_cost / zero_child_count, 2)\n",
    "        avg_one_or_more_child_cost = round(one_or_more_child_cost / one_or_more_child_count, 2)\n",
    "\n",
    "        print(\"Average insurance cost for people with 0 children: $\", avg_zero_child_cost)\n",
    "        print(\"Average insurance cost for people with 1 or more children: $\", avg_one_or_more_child_cost)\n",
    "        \n",
    "compare_children_cost()\n",
    "        "
   ]
  }
 ],
 "metadata": {
  "kernelspec": {
   "display_name": "Python 3 (ipykernel)",
   "language": "python",
   "name": "python3"
  },
  "language_info": {
   "codemirror_mode": {
    "name": "ipython",
    "version": 3
   },
   "file_extension": ".py",
   "mimetype": "text/x-python",
   "name": "python",
   "nbconvert_exporter": "python",
   "pygments_lexer": "ipython3",
   "version": "3.9.13"
  }
 },
 "nbformat": 4,
 "nbformat_minor": 4
}
